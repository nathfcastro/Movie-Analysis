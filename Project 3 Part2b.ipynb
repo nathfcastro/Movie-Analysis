{
 "cells": [
  {
   "cell_type": "markdown",
   "id": "e950d649",
   "metadata": {},
   "source": [
    "# Project Three: Part 2B\n",
    "Student Name: Nathalie Castro "
   ]
  },
  {
   "cell_type": "code",
   "execution_count": 2,
   "id": "420c7808",
   "metadata": {},
   "outputs": [],
   "source": [
    "# Standard Imports\n",
    "import numpy as np\n",
    "import pandas as pd \n",
    "import matplotlib.pyplot as plt \n",
    "import seaborn as sns \n",
    "\n",
    "# Importing the OS and JSON modules\n",
    "import os,json"
   ]
  },
  {
   "cell_type": "code",
   "execution_count": 3,
   "id": "699bd975",
   "metadata": {},
   "outputs": [],
   "source": [
    "df_2000 = pd.read_csv('Data/final_tmdb_data_2000.csv.gz')"
   ]
  },
  {
   "cell_type": "code",
   "execution_count": 4,
   "id": "15863b78",
   "metadata": {},
   "outputs": [
    {
     "data": {
      "text/html": [
       "<div>\n",
       "<style scoped>\n",
       "    .dataframe tbody tr th:only-of-type {\n",
       "        vertical-align: middle;\n",
       "    }\n",
       "\n",
       "    .dataframe tbody tr th {\n",
       "        vertical-align: top;\n",
       "    }\n",
       "\n",
       "    .dataframe thead th {\n",
       "        text-align: right;\n",
       "    }\n",
       "</style>\n",
       "<table border=\"1\" class=\"dataframe\">\n",
       "  <thead>\n",
       "    <tr style=\"text-align: right;\">\n",
       "      <th></th>\n",
       "      <th>imdb_id</th>\n",
       "      <th>adult</th>\n",
       "      <th>backdrop_path</th>\n",
       "      <th>belongs_to_collection</th>\n",
       "      <th>budget</th>\n",
       "      <th>genres</th>\n",
       "      <th>homepage</th>\n",
       "      <th>id</th>\n",
       "      <th>original_language</th>\n",
       "      <th>original_title</th>\n",
       "      <th>...</th>\n",
       "      <th>revenue</th>\n",
       "      <th>runtime</th>\n",
       "      <th>spoken_languages</th>\n",
       "      <th>status</th>\n",
       "      <th>tagline</th>\n",
       "      <th>title</th>\n",
       "      <th>video</th>\n",
       "      <th>vote_average</th>\n",
       "      <th>vote_count</th>\n",
       "      <th>certification</th>\n",
       "    </tr>\n",
       "  </thead>\n",
       "  <tbody>\n",
       "    <tr>\n",
       "      <th>0</th>\n",
       "      <td>0</td>\n",
       "      <td>NaN</td>\n",
       "      <td>NaN</td>\n",
       "      <td>NaN</td>\n",
       "      <td>NaN</td>\n",
       "      <td>NaN</td>\n",
       "      <td>NaN</td>\n",
       "      <td>NaN</td>\n",
       "      <td>NaN</td>\n",
       "      <td>NaN</td>\n",
       "      <td>...</td>\n",
       "      <td>NaN</td>\n",
       "      <td>NaN</td>\n",
       "      <td>NaN</td>\n",
       "      <td>NaN</td>\n",
       "      <td>NaN</td>\n",
       "      <td>NaN</td>\n",
       "      <td>NaN</td>\n",
       "      <td>NaN</td>\n",
       "      <td>NaN</td>\n",
       "      <td>NaN</td>\n",
       "    </tr>\n",
       "    <tr>\n",
       "      <th>1</th>\n",
       "      <td>tt0113026</td>\n",
       "      <td>0.0</td>\n",
       "      <td>/vMFs7nw6P0bIV1jDsQpxAieAVnH.jpg</td>\n",
       "      <td>NaN</td>\n",
       "      <td>10000000.0</td>\n",
       "      <td>[{'id': 35, 'name': 'Comedy'}, {'id': 10402, '...</td>\n",
       "      <td>NaN</td>\n",
       "      <td>62127.0</td>\n",
       "      <td>en</td>\n",
       "      <td>The Fantasticks</td>\n",
       "      <td>...</td>\n",
       "      <td>0.0</td>\n",
       "      <td>86.0</td>\n",
       "      <td>[{'english_name': 'English', 'iso_639_1': 'en'...</td>\n",
       "      <td>Released</td>\n",
       "      <td>Try to remember the first time magic happened</td>\n",
       "      <td>The Fantasticks</td>\n",
       "      <td>0.0</td>\n",
       "      <td>5.500</td>\n",
       "      <td>22.0</td>\n",
       "      <td>NaN</td>\n",
       "    </tr>\n",
       "    <tr>\n",
       "      <th>2</th>\n",
       "      <td>tt0113092</td>\n",
       "      <td>0.0</td>\n",
       "      <td>NaN</td>\n",
       "      <td>NaN</td>\n",
       "      <td>0.0</td>\n",
       "      <td>[{'id': 878, 'name': 'Science Fiction'}]</td>\n",
       "      <td>NaN</td>\n",
       "      <td>110977.0</td>\n",
       "      <td>en</td>\n",
       "      <td>For the Cause</td>\n",
       "      <td>...</td>\n",
       "      <td>0.0</td>\n",
       "      <td>100.0</td>\n",
       "      <td>[{'english_name': 'English', 'iso_639_1': 'en'...</td>\n",
       "      <td>Released</td>\n",
       "      <td>The ultimate showdown on a forbidden planet.</td>\n",
       "      <td>For the Cause</td>\n",
       "      <td>0.0</td>\n",
       "      <td>5.100</td>\n",
       "      <td>8.0</td>\n",
       "      <td>NaN</td>\n",
       "    </tr>\n",
       "    <tr>\n",
       "      <th>3</th>\n",
       "      <td>tt0116391</td>\n",
       "      <td>0.0</td>\n",
       "      <td>NaN</td>\n",
       "      <td>NaN</td>\n",
       "      <td>0.0</td>\n",
       "      <td>[{'id': 18, 'name': 'Drama'}, {'id': 28, 'name...</td>\n",
       "      <td>NaN</td>\n",
       "      <td>442869.0</td>\n",
       "      <td>hi</td>\n",
       "      <td>Gang</td>\n",
       "      <td>...</td>\n",
       "      <td>0.0</td>\n",
       "      <td>152.0</td>\n",
       "      <td>[{'english_name': 'Hindi', 'iso_639_1': 'hi', ...</td>\n",
       "      <td>Released</td>\n",
       "      <td>NaN</td>\n",
       "      <td>Gang</td>\n",
       "      <td>0.0</td>\n",
       "      <td>4.000</td>\n",
       "      <td>1.0</td>\n",
       "      <td>NaN</td>\n",
       "    </tr>\n",
       "    <tr>\n",
       "      <th>4</th>\n",
       "      <td>tt0118694</td>\n",
       "      <td>0.0</td>\n",
       "      <td>/n4GJFGzsc7NinI1VeGDXIcQjtU2.jpg</td>\n",
       "      <td>NaN</td>\n",
       "      <td>150000.0</td>\n",
       "      <td>[{'id': 18, 'name': 'Drama'}, {'id': 10749, 'n...</td>\n",
       "      <td>NaN</td>\n",
       "      <td>843.0</td>\n",
       "      <td>cn</td>\n",
       "      <td>花樣年華</td>\n",
       "      <td>...</td>\n",
       "      <td>12854953.0</td>\n",
       "      <td>99.0</td>\n",
       "      <td>[{'english_name': 'Cantonese', 'iso_639_1': 'c...</td>\n",
       "      <td>Released</td>\n",
       "      <td>Feel the heat, keep the feeling burning, let t...</td>\n",
       "      <td>In the Mood for Love</td>\n",
       "      <td>0.0</td>\n",
       "      <td>8.114</td>\n",
       "      <td>2191.0</td>\n",
       "      <td>PG</td>\n",
       "    </tr>\n",
       "  </tbody>\n",
       "</table>\n",
       "<p>5 rows × 26 columns</p>\n",
       "</div>"
      ],
      "text/plain": [
       "     imdb_id  adult                     backdrop_path belongs_to_collection  \\\n",
       "0          0    NaN                               NaN                   NaN   \n",
       "1  tt0113026    0.0  /vMFs7nw6P0bIV1jDsQpxAieAVnH.jpg                   NaN   \n",
       "2  tt0113092    0.0                               NaN                   NaN   \n",
       "3  tt0116391    0.0                               NaN                   NaN   \n",
       "4  tt0118694    0.0  /n4GJFGzsc7NinI1VeGDXIcQjtU2.jpg                   NaN   \n",
       "\n",
       "       budget                                             genres homepage  \\\n",
       "0         NaN                                                NaN      NaN   \n",
       "1  10000000.0  [{'id': 35, 'name': 'Comedy'}, {'id': 10402, '...      NaN   \n",
       "2         0.0           [{'id': 878, 'name': 'Science Fiction'}]      NaN   \n",
       "3         0.0  [{'id': 18, 'name': 'Drama'}, {'id': 28, 'name...      NaN   \n",
       "4    150000.0  [{'id': 18, 'name': 'Drama'}, {'id': 10749, 'n...      NaN   \n",
       "\n",
       "         id original_language   original_title  ...     revenue  runtime  \\\n",
       "0       NaN               NaN              NaN  ...         NaN      NaN   \n",
       "1   62127.0                en  The Fantasticks  ...         0.0     86.0   \n",
       "2  110977.0                en    For the Cause  ...         0.0    100.0   \n",
       "3  442869.0                hi             Gang  ...         0.0    152.0   \n",
       "4     843.0                cn             花樣年華  ...  12854953.0     99.0   \n",
       "\n",
       "                                    spoken_languages    status  \\\n",
       "0                                                NaN       NaN   \n",
       "1  [{'english_name': 'English', 'iso_639_1': 'en'...  Released   \n",
       "2  [{'english_name': 'English', 'iso_639_1': 'en'...  Released   \n",
       "3  [{'english_name': 'Hindi', 'iso_639_1': 'hi', ...  Released   \n",
       "4  [{'english_name': 'Cantonese', 'iso_639_1': 'c...  Released   \n",
       "\n",
       "                                             tagline                 title  \\\n",
       "0                                                NaN                   NaN   \n",
       "1      Try to remember the first time magic happened       The Fantasticks   \n",
       "2       The ultimate showdown on a forbidden planet.         For the Cause   \n",
       "3                                                NaN                  Gang   \n",
       "4  Feel the heat, keep the feeling burning, let t...  In the Mood for Love   \n",
       "\n",
       "   video  vote_average vote_count certification  \n",
       "0    NaN           NaN        NaN           NaN  \n",
       "1    0.0         5.500       22.0           NaN  \n",
       "2    0.0         5.100        8.0           NaN  \n",
       "3    0.0         4.000        1.0           NaN  \n",
       "4    0.0         8.114     2191.0            PG  \n",
       "\n",
       "[5 rows x 26 columns]"
      ]
     },
     "execution_count": 4,
     "metadata": {},
     "output_type": "execute_result"
    }
   ],
   "source": [
    "df_2000.head()"
   ]
  },
  {
   "cell_type": "code",
   "execution_count": 5,
   "id": "4870aa17",
   "metadata": {},
   "outputs": [
    {
     "name": "stdout",
     "output_type": "stream",
     "text": [
      "<class 'pandas.core.frame.DataFrame'>\n",
      "RangeIndex: 1237 entries, 0 to 1236\n",
      "Data columns (total 26 columns):\n",
      " #   Column                 Non-Null Count  Dtype  \n",
      "---  ------                 --------------  -----  \n",
      " 0   imdb_id                1237 non-null   object \n",
      " 1   adult                  1236 non-null   float64\n",
      " 2   backdrop_path          681 non-null    object \n",
      " 3   belongs_to_collection  113 non-null    object \n",
      " 4   budget                 1236 non-null   float64\n",
      " 5   genres                 1236 non-null   object \n",
      " 6   homepage               64 non-null     object \n",
      " 7   id                     1236 non-null   float64\n",
      " 8   original_language      1236 non-null   object \n",
      " 9   original_title         1236 non-null   object \n",
      " 10  overview               1215 non-null   object \n",
      " 11  popularity             1236 non-null   float64\n",
      " 12  poster_path            1113 non-null   object \n",
      " 13  production_companies   1236 non-null   object \n",
      " 14  production_countries   1236 non-null   object \n",
      " 15  release_date           1228 non-null   object \n",
      " 16  revenue                1236 non-null   float64\n",
      " 17  runtime                1236 non-null   float64\n",
      " 18  spoken_languages       1236 non-null   object \n",
      " 19  status                 1236 non-null   object \n",
      " 20  tagline                548 non-null    object \n",
      " 21  title                  1236 non-null   object \n",
      " 22  video                  1236 non-null   float64\n",
      " 23  vote_average           1236 non-null   float64\n",
      " 24  vote_count             1236 non-null   float64\n",
      " 25  certification          391 non-null    object \n",
      "dtypes: float64(9), object(17)\n",
      "memory usage: 251.4+ KB\n"
     ]
    }
   ],
   "source": [
    "df_2000.info()"
   ]
  },
  {
   "cell_type": "code",
   "execution_count": 6,
   "id": "d69570db",
   "metadata": {},
   "outputs": [],
   "source": [
    "df_2001 = pd.read_csv('Data/final_tmdb_data_2001.csv.gz')"
   ]
  },
  {
   "cell_type": "code",
   "execution_count": 7,
   "id": "e02ac00d",
   "metadata": {},
   "outputs": [
    {
     "name": "stdout",
     "output_type": "stream",
     "text": [
      "<class 'pandas.core.frame.DataFrame'>\n",
      "RangeIndex: 1330 entries, 0 to 1329\n",
      "Data columns (total 26 columns):\n",
      " #   Column                 Non-Null Count  Dtype  \n",
      "---  ------                 --------------  -----  \n",
      " 0   imdb_id                1330 non-null   object \n",
      " 1   adult                  1329 non-null   float64\n",
      " 2   backdrop_path          715 non-null    object \n",
      " 3   belongs_to_collection  93 non-null     object \n",
      " 4   budget                 1329 non-null   float64\n",
      " 5   genres                 1329 non-null   object \n",
      " 6   homepage               109 non-null    object \n",
      " 7   id                     1329 non-null   float64\n",
      " 8   original_language      1329 non-null   object \n",
      " 9   original_title         1329 non-null   object \n",
      " 10  overview               1300 non-null   object \n",
      " 11  popularity             1329 non-null   float64\n",
      " 12  poster_path            1194 non-null   object \n",
      " 13  production_companies   1329 non-null   object \n",
      " 14  production_countries   1329 non-null   object \n",
      " 15  release_date           1318 non-null   object \n",
      " 16  revenue                1329 non-null   float64\n",
      " 17  runtime                1329 non-null   float64\n",
      " 18  spoken_languages       1329 non-null   object \n",
      " 19  status                 1329 non-null   object \n",
      " 20  tagline                551 non-null    object \n",
      " 21  title                  1329 non-null   object \n",
      " 22  video                  1329 non-null   float64\n",
      " 23  vote_average           1329 non-null   float64\n",
      " 24  vote_count             1329 non-null   float64\n",
      " 25  certification          424 non-null    object \n",
      "dtypes: float64(9), object(17)\n",
      "memory usage: 270.3+ KB\n"
     ]
    }
   ],
   "source": [
    "df_2001.info()"
   ]
  },
  {
   "cell_type": "code",
   "execution_count": 8,
   "id": "ed82f416",
   "metadata": {},
   "outputs": [
    {
     "name": "stdout",
     "output_type": "stream",
     "text": [
      "<class 'pandas.core.frame.DataFrame'>\n",
      "Int64Index: 2567 entries, 0 to 1329\n",
      "Data columns (total 26 columns):\n",
      " #   Column                 Non-Null Count  Dtype  \n",
      "---  ------                 --------------  -----  \n",
      " 0   imdb_id                2567 non-null   object \n",
      " 1   adult                  2565 non-null   float64\n",
      " 2   backdrop_path          1396 non-null   object \n",
      " 3   belongs_to_collection  206 non-null    object \n",
      " 4   budget                 2565 non-null   float64\n",
      " 5   genres                 2565 non-null   object \n",
      " 6   homepage               173 non-null    object \n",
      " 7   id                     2565 non-null   float64\n",
      " 8   original_language      2565 non-null   object \n",
      " 9   original_title         2565 non-null   object \n",
      " 10  overview               2515 non-null   object \n",
      " 11  popularity             2565 non-null   float64\n",
      " 12  poster_path            2307 non-null   object \n",
      " 13  production_companies   2565 non-null   object \n",
      " 14  production_countries   2565 non-null   object \n",
      " 15  release_date           2546 non-null   object \n",
      " 16  revenue                2565 non-null   float64\n",
      " 17  runtime                2565 non-null   float64\n",
      " 18  spoken_languages       2565 non-null   object \n",
      " 19  status                 2565 non-null   object \n",
      " 20  tagline                1099 non-null   object \n",
      " 21  title                  2565 non-null   object \n",
      " 22  video                  2565 non-null   float64\n",
      " 23  vote_average           2565 non-null   float64\n",
      " 24  vote_count             2565 non-null   float64\n",
      " 25  certification          815 non-null    object \n",
      "dtypes: float64(9), object(17)\n",
      "memory usage: 541.5+ KB\n"
     ]
    }
   ],
   "source": [
    "# Combine the DataFrames\n",
    "final_df = pd.concat([df_2000, df_2001])\n",
    "final_df.info()"
   ]
  },
  {
   "cell_type": "code",
   "execution_count": 9,
   "id": "24e9afad",
   "metadata": {},
   "outputs": [],
   "source": [
    "# Define the path to the file.\n",
    "FILE = \"Data/tmdb_results_combined.csv.gz\"\n",
    "# Check if it exists\n",
    "file_exists = os.path.isfile(FILE)\n",
    "# If the file does not exist, create it with pandas\n",
    "if not file_exists:\n",
    "    final_df.to_csv(FILE, compression=\"gzip\", index=False)"
   ]
  },
  {
   "cell_type": "code",
   "execution_count": 10,
   "id": "6faf01d4",
   "metadata": {},
   "outputs": [
    {
     "name": "stdout",
     "output_type": "stream",
     "text": [
      "<class 'pandas.core.frame.DataFrame'>\n",
      "RangeIndex: 2567 entries, 0 to 2566\n",
      "Data columns (total 26 columns):\n",
      " #   Column                 Non-Null Count  Dtype  \n",
      "---  ------                 --------------  -----  \n",
      " 0   imdb_id                2567 non-null   object \n",
      " 1   adult                  2565 non-null   float64\n",
      " 2   backdrop_path          1396 non-null   object \n",
      " 3   belongs_to_collection  206 non-null    object \n",
      " 4   budget                 2565 non-null   float64\n",
      " 5   genres                 2565 non-null   object \n",
      " 6   homepage               173 non-null    object \n",
      " 7   id                     2565 non-null   float64\n",
      " 8   original_language      2565 non-null   object \n",
      " 9   original_title         2565 non-null   object \n",
      " 10  overview               2515 non-null   object \n",
      " 11  popularity             2565 non-null   float64\n",
      " 12  poster_path            2307 non-null   object \n",
      " 13  production_companies   2565 non-null   object \n",
      " 14  production_countries   2565 non-null   object \n",
      " 15  release_date           2546 non-null   object \n",
      " 16  revenue                2565 non-null   float64\n",
      " 17  runtime                2565 non-null   float64\n",
      " 18  spoken_languages       2565 non-null   object \n",
      " 19  status                 2565 non-null   object \n",
      " 20  tagline                1099 non-null   object \n",
      " 21  title                  2565 non-null   object \n",
      " 22  video                  2565 non-null   float64\n",
      " 23  vote_average           2565 non-null   float64\n",
      " 24  vote_count             2565 non-null   float64\n",
      " 25  certification          815 non-null    object \n",
      "dtypes: float64(9), object(17)\n",
      "memory usage: 521.5+ KB\n"
     ]
    }
   ],
   "source": [
    "# Verify it correctly saved by reloading the data via the saved file path\n",
    "final_df = pd.read_csv(\"Data/tmdb_results_combined.csv.gz\")\n",
    "final_df.info()"
   ]
  },
  {
   "cell_type": "code",
   "execution_count": 14,
   "id": "05b36509",
   "metadata": {},
   "outputs": [],
   "source": [
    "valid_budget = final_df[final_df['budget'] > 0]\n",
    "valid_revenue = final_df[final_df['revenue'] > 0]\n",
    "valid_financial = final_df[(final_df['budget'] > 0) | (final_df['revenue'] > 0)]"
   ]
  },
  {
   "cell_type": "code",
   "execution_count": 15,
   "id": "20055e52",
   "metadata": {},
   "outputs": [
    {
     "data": {
      "image/png": "[encoded data removed]",
      "text/plain": [
       "<Figure size 500x500 with 1 Axes>"
      ]
     },
     "metadata": {},
     "output_type": "display_data"
    },
    {
     "name": "stdout",
     "output_type": "stream",
     "text": [
      "There are 544 movies with valid budgets (over $0)\n"
     ]
    },
    {
     "data": {
      "text/plain": [
       "1397    140000000.0\n",
       "1300    137000000.0\n",
       "27      127500000.0\n",
       "1547    125000000.0\n",
       "17      125000000.0\n",
       "           ...     \n",
       "1059           30.0\n",
       "1107           12.0\n",
       "300             4.0\n",
       "1706            2.0\n",
       "942             1.0\n",
       "Name: budget, Length: 544, dtype: float64"
      ]
     },
     "execution_count": 15,
     "metadata": {},
     "output_type": "execute_result"
    }
   ],
   "source": [
    "sns.displot(data=valid_budget, x = 'budget')\n",
    "plt.title('Movies with Valid Budget')\n",
    "plt.xlabel('Budget ($USD)')\n",
    "plt.show();\n",
    "print(f'There are {valid_budget[\"budget\"].value_counts().sum()} movies with valid budgets (over $0)')\n",
    "valid_budget['budget'].sort_values(ascending=False)"
   ]
  },
  {
   "cell_type": "code",
   "execution_count": 16,
   "id": "9c34e8ec",
   "metadata": {},
   "outputs": [
    {
     "data": {
      "image/png": "[encoded data removed]",
      "text/plain": [
       "<Figure size 500x500 with 1 Axes>"
      ]
     },
     "metadata": {},
     "output_type": "display_data"
    },
    {
     "name": "stdout",
     "output_type": "stream",
     "text": [
      "There are 445 movies with valid revenue (over $0)\n"
     ]
    },
    {
     "data": {
      "text/plain": [
       "1547    976475550.0\n",
       "1247    871368364.0\n",
       "1337    579707738.0\n",
       "17      546388105.0\n",
       "1253    487853320.0\n",
       "           ...     \n",
       "180            27.0\n",
       "1225            8.0\n",
       "687             4.0\n",
       "1616            1.0\n",
       "300             1.0\n",
       "Name: revenue, Length: 445, dtype: float64"
      ]
     },
     "execution_count": 16,
     "metadata": {},
     "output_type": "execute_result"
    }
   ],
   "source": [
    "sns.displot(data=valid_revenue, x = 'revenue')\n",
    "plt.title('Movies with Valid Revenue')\n",
    "plt.xlabel('Budget ($USD)')\n",
    "plt.show();\n",
    "print(f'There are {valid_revenue[\"revenue\"].value_counts().sum()} movies with valid revenue (over $0)')\n",
    "valid_revenue['revenue'].sort_values(ascending=False)"
   ]
  },
  {
   "cell_type": "code",
   "execution_count": 17,
   "id": "22ce04d0",
   "metadata": {},
   "outputs": [
    {
     "data": {
      "text/html": [
       "<div>\n",
       "<style scoped>\n",
       "    .dataframe tbody tr th:only-of-type {\n",
       "        vertical-align: middle;\n",
       "    }\n",
       "\n",
       "    .dataframe tbody tr th {\n",
       "        vertical-align: top;\n",
       "    }\n",
       "\n",
       "    .dataframe thead th {\n",
       "        text-align: right;\n",
       "    }\n",
       "</style>\n",
       "<table border=\"1\" class=\"dataframe\">\n",
       "  <thead>\n",
       "    <tr style=\"text-align: right;\">\n",
       "      <th></th>\n",
       "      <th>adult</th>\n",
       "      <th>budget</th>\n",
       "      <th>id</th>\n",
       "      <th>popularity</th>\n",
       "      <th>revenue</th>\n",
       "      <th>runtime</th>\n",
       "      <th>video</th>\n",
       "      <th>vote_average</th>\n",
       "      <th>vote_count</th>\n",
       "    </tr>\n",
       "  </thead>\n",
       "  <tbody>\n",
       "    <tr>\n",
       "      <th>count</th>\n",
       "      <td>636.0</td>\n",
       "      <td>6.360000e+02</td>\n",
       "      <td>6.360000e+02</td>\n",
       "      <td>636.000000</td>\n",
       "      <td>6.360000e+02</td>\n",
       "      <td>636.000000</td>\n",
       "      <td>636.0</td>\n",
       "      <td>636.000000</td>\n",
       "      <td>636.000000</td>\n",
       "    </tr>\n",
       "    <tr>\n",
       "      <th>mean</th>\n",
       "      <td>0.0</td>\n",
       "      <td>2.092695e+07</td>\n",
       "      <td>5.952869e+04</td>\n",
       "      <td>12.082453</td>\n",
       "      <td>4.405316e+07</td>\n",
       "      <td>103.965409</td>\n",
       "      <td>0.0</td>\n",
       "      <td>5.725170</td>\n",
       "      <td>1029.639937</td>\n",
       "    </tr>\n",
       "    <tr>\n",
       "      <th>std</th>\n",
       "      <td>0.0</td>\n",
       "      <td>2.893294e+07</td>\n",
       "      <td>1.414605e+05</td>\n",
       "      <td>16.686643</td>\n",
       "      <td>9.815605e+07</td>\n",
       "      <td>21.465491</td>\n",
       "      <td>0.0</td>\n",
       "      <td>1.672294</td>\n",
       "      <td>2454.563272</td>\n",
       "    </tr>\n",
       "    <tr>\n",
       "      <th>min</th>\n",
       "      <td>0.0</td>\n",
       "      <td>0.000000e+00</td>\n",
       "      <td>1.600000e+01</td>\n",
       "      <td>0.600000</td>\n",
       "      <td>0.000000e+00</td>\n",
       "      <td>0.000000</td>\n",
       "      <td>0.0</td>\n",
       "      <td>0.000000</td>\n",
       "      <td>0.000000</td>\n",
       "    </tr>\n",
       "    <tr>\n",
       "      <th>25%</th>\n",
       "      <td>0.0</td>\n",
       "      <td>5.000000e+05</td>\n",
       "      <td>9.288750e+03</td>\n",
       "      <td>3.614000</td>\n",
       "      <td>0.000000e+00</td>\n",
       "      <td>91.000000</td>\n",
       "      <td>0.0</td>\n",
       "      <td>5.300000</td>\n",
       "      <td>26.750000</td>\n",
       "    </tr>\n",
       "    <tr>\n",
       "      <th>50%</th>\n",
       "      <td>0.0</td>\n",
       "      <td>7.750000e+06</td>\n",
       "      <td>1.468250e+04</td>\n",
       "      <td>8.962500</td>\n",
       "      <td>1.844592e+06</td>\n",
       "      <td>100.000000</td>\n",
       "      <td>0.0</td>\n",
       "      <td>6.071000</td>\n",
       "      <td>186.500000</td>\n",
       "    </tr>\n",
       "    <tr>\n",
       "      <th>75%</th>\n",
       "      <td>0.0</td>\n",
       "      <td>3.000000e+07</td>\n",
       "      <td>4.425525e+04</td>\n",
       "      <td>14.023500</td>\n",
       "      <td>3.844359e+07</td>\n",
       "      <td>113.000000</td>\n",
       "      <td>0.0</td>\n",
       "      <td>6.690500</td>\n",
       "      <td>837.750000</td>\n",
       "    </tr>\n",
       "    <tr>\n",
       "      <th>max</th>\n",
       "      <td>0.0</td>\n",
       "      <td>1.400000e+08</td>\n",
       "      <td>1.120809e+06</td>\n",
       "      <td>179.767000</td>\n",
       "      <td>9.764756e+08</td>\n",
       "      <td>224.000000</td>\n",
       "      <td>0.0</td>\n",
       "      <td>10.000000</td>\n",
       "      <td>24702.000000</td>\n",
       "    </tr>\n",
       "  </tbody>\n",
       "</table>\n",
       "</div>"
      ],
      "text/plain": [
       "       adult        budget            id  popularity       revenue  \\\n",
       "count  636.0  6.360000e+02  6.360000e+02  636.000000  6.360000e+02   \n",
       "mean     0.0  2.092695e+07  5.952869e+04   12.082453  4.405316e+07   \n",
       "std      0.0  2.893294e+07  1.414605e+05   16.686643  9.815605e+07   \n",
       "min      0.0  0.000000e+00  1.600000e+01    0.600000  0.000000e+00   \n",
       "25%      0.0  5.000000e+05  9.288750e+03    3.614000  0.000000e+00   \n",
       "50%      0.0  7.750000e+06  1.468250e+04    8.962500  1.844592e+06   \n",
       "75%      0.0  3.000000e+07  4.425525e+04   14.023500  3.844359e+07   \n",
       "max      0.0  1.400000e+08  1.120809e+06  179.767000  9.764756e+08   \n",
       "\n",
       "          runtime  video  vote_average    vote_count  \n",
       "count  636.000000  636.0    636.000000    636.000000  \n",
       "mean   103.965409    0.0      5.725170   1029.639937  \n",
       "std     21.465491    0.0      1.672294   2454.563272  \n",
       "min      0.000000    0.0      0.000000      0.000000  \n",
       "25%     91.000000    0.0      5.300000     26.750000  \n",
       "50%    100.000000    0.0      6.071000    186.500000  \n",
       "75%    113.000000    0.0      6.690500    837.750000  \n",
       "max    224.000000    0.0     10.000000  24702.000000  "
      ]
     },
     "execution_count": 17,
     "metadata": {},
     "output_type": "execute_result"
    }
   ],
   "source": [
    "valid_financial.describe()"
   ]
  },
  {
   "cell_type": "code",
   "execution_count": 19,
   "id": "966ae01a",
   "metadata": {},
   "outputs": [
    {
     "data": {
      "text/html": [
       "<div>\n",
       "<style scoped>\n",
       "    .dataframe tbody tr th:only-of-type {\n",
       "        vertical-align: middle;\n",
       "    }\n",
       "\n",
       "    .dataframe tbody tr th {\n",
       "        vertical-align: top;\n",
       "    }\n",
       "\n",
       "    .dataframe thead th {\n",
       "        text-align: right;\n",
       "    }\n",
       "</style>\n",
       "<table border=\"1\" class=\"dataframe\">\n",
       "  <thead>\n",
       "    <tr style=\"text-align: right;\">\n",
       "      <th></th>\n",
       "      <th>adult</th>\n",
       "      <th>budget</th>\n",
       "      <th>id</th>\n",
       "      <th>popularity</th>\n",
       "      <th>revenue</th>\n",
       "      <th>runtime</th>\n",
       "      <th>video</th>\n",
       "      <th>vote_average</th>\n",
       "      <th>vote_count</th>\n",
       "    </tr>\n",
       "  </thead>\n",
       "  <tbody>\n",
       "    <tr>\n",
       "      <th>count</th>\n",
       "      <td>353.0</td>\n",
       "      <td>3.530000e+02</td>\n",
       "      <td>353.000000</td>\n",
       "      <td>353.000000</td>\n",
       "      <td>3.530000e+02</td>\n",
       "      <td>353.000000</td>\n",
       "      <td>353.0</td>\n",
       "      <td>353.000000</td>\n",
       "      <td>353.000000</td>\n",
       "    </tr>\n",
       "    <tr>\n",
       "      <th>mean</th>\n",
       "      <td>0.0</td>\n",
       "      <td>3.429257e+07</td>\n",
       "      <td>16794.303116</td>\n",
       "      <td>17.468003</td>\n",
       "      <td>7.861505e+07</td>\n",
       "      <td>108.473088</td>\n",
       "      <td>0.0</td>\n",
       "      <td>6.237082</td>\n",
       "      <td>1760.906516</td>\n",
       "    </tr>\n",
       "    <tr>\n",
       "      <th>std</th>\n",
       "      <td>0.0</td>\n",
       "      <td>3.206220e+07</td>\n",
       "      <td>29720.855815</td>\n",
       "      <td>20.256379</td>\n",
       "      <td>1.211516e+08</td>\n",
       "      <td>20.707376</td>\n",
       "      <td>0.0</td>\n",
       "      <td>0.988112</td>\n",
       "      <td>3101.632967</td>\n",
       "    </tr>\n",
       "    <tr>\n",
       "      <th>min</th>\n",
       "      <td>0.0</td>\n",
       "      <td>4.000000e+00</td>\n",
       "      <td>16.000000</td>\n",
       "      <td>0.600000</td>\n",
       "      <td>1.000000e+00</td>\n",
       "      <td>74.000000</td>\n",
       "      <td>0.0</td>\n",
       "      <td>0.000000</td>\n",
       "      <td>0.000000</td>\n",
       "    </tr>\n",
       "    <tr>\n",
       "      <th>25%</th>\n",
       "      <td>0.0</td>\n",
       "      <td>1.000000e+07</td>\n",
       "      <td>2787.000000</td>\n",
       "      <td>9.036000</td>\n",
       "      <td>8.279017e+06</td>\n",
       "      <td>94.000000</td>\n",
       "      <td>0.0</td>\n",
       "      <td>5.757000</td>\n",
       "      <td>185.000000</td>\n",
       "    </tr>\n",
       "    <tr>\n",
       "      <th>50%</th>\n",
       "      <td>0.0</td>\n",
       "      <td>2.400000e+07</td>\n",
       "      <td>10567.000000</td>\n",
       "      <td>12.487000</td>\n",
       "      <td>3.216897e+07</td>\n",
       "      <td>104.000000</td>\n",
       "      <td>0.0</td>\n",
       "      <td>6.300000</td>\n",
       "      <td>603.000000</td>\n",
       "    </tr>\n",
       "    <tr>\n",
       "      <th>75%</th>\n",
       "      <td>0.0</td>\n",
       "      <td>5.000000e+07</td>\n",
       "      <td>16340.000000</td>\n",
       "      <td>18.768000</td>\n",
       "      <td>9.472853e+07</td>\n",
       "      <td>119.000000</td>\n",
       "      <td>0.0</td>\n",
       "      <td>6.810000</td>\n",
       "      <td>1807.000000</td>\n",
       "    </tr>\n",
       "    <tr>\n",
       "      <th>max</th>\n",
       "      <td>0.0</td>\n",
       "      <td>1.400000e+08</td>\n",
       "      <td>292890.000000</td>\n",
       "      <td>179.767000</td>\n",
       "      <td>9.764756e+08</td>\n",
       "      <td>224.000000</td>\n",
       "      <td>0.0</td>\n",
       "      <td>8.500000</td>\n",
       "      <td>24702.000000</td>\n",
       "    </tr>\n",
       "  </tbody>\n",
       "</table>\n",
       "</div>"
      ],
      "text/plain": [
       "       adult        budget             id  popularity       revenue  \\\n",
       "count  353.0  3.530000e+02     353.000000  353.000000  3.530000e+02   \n",
       "mean     0.0  3.429257e+07   16794.303116   17.468003  7.861505e+07   \n",
       "std      0.0  3.206220e+07   29720.855815   20.256379  1.211516e+08   \n",
       "min      0.0  4.000000e+00      16.000000    0.600000  1.000000e+00   \n",
       "25%      0.0  1.000000e+07    2787.000000    9.036000  8.279017e+06   \n",
       "50%      0.0  2.400000e+07   10567.000000   12.487000  3.216897e+07   \n",
       "75%      0.0  5.000000e+07   16340.000000   18.768000  9.472853e+07   \n",
       "max      0.0  1.400000e+08  292890.000000  179.767000  9.764756e+08   \n",
       "\n",
       "          runtime  video  vote_average    vote_count  \n",
       "count  353.000000  353.0    353.000000    353.000000  \n",
       "mean   108.473088    0.0      6.237082   1760.906516  \n",
       "std     20.707376    0.0      0.988112   3101.632967  \n",
       "min     74.000000    0.0      0.000000      0.000000  \n",
       "25%     94.000000    0.0      5.757000    185.000000  \n",
       "50%    104.000000    0.0      6.300000    603.000000  \n",
       "75%    119.000000    0.0      6.810000   1807.000000  \n",
       "max    224.000000    0.0      8.500000  24702.000000  "
      ]
     },
     "execution_count": 19,
     "metadata": {},
     "output_type": "execute_result"
    }
   ],
   "source": [
    "budget_and_rev = final_df[(final_df['budget'] > 0) & (final_df['revenue'] > 0)]\n",
    "budget_and_rev.describe()"
   ]
  },
  {
   "cell_type": "markdown",
   "id": "33198db4",
   "metadata": {},
   "source": [
    "## MPAA Rating (G/PG/PG-13/R)"
   ]
  },
  {
   "cell_type": "code",
   "execution_count": 20,
   "id": "29a80fd1",
   "metadata": {},
   "outputs": [
    {
     "data": {
      "image/png": "[encoded data removed]",
      "text/plain": [
       "<Figure size 500x500 with 1 Axes>"
      ]
     },
     "metadata": {},
     "output_type": "display_data"
    },
    {
     "name": "stdout",
     "output_type": "stream",
     "text": [
      "R        141\n",
      "PG-13    117\n",
      "PG        30\n",
      "G         13\n",
      "NR         7\n",
      "Name: certification, dtype: int64\n"
     ]
    }
   ],
   "source": [
    "sns.displot(data=budget_and_rev, x='certification')\n",
    "plt.title('Movies per Certification Category')\n",
    "plt.xlabel('Certification')\n",
    "plt.show();\n",
    "print(budget_and_rev['certification'].value_counts())"
   ]
  },
  {
   "cell_type": "markdown",
   "id": "f3252b5f",
   "metadata": {},
   "source": [
    "## What is the average revenue per certification category?"
   ]
  },
  {
   "cell_type": "code",
   "execution_count": 21,
   "id": "748a3a3e",
   "metadata": {},
   "outputs": [],
   "source": [
    "avg_rev = budget_and_rev.groupby('certification')['revenue'].mean()"
   ]
  },
  {
   "cell_type": "code",
   "execution_count": 22,
   "id": "4509d1fc",
   "metadata": {},
   "outputs": [
    {
     "data": {
      "image/png": "[encoded data removed]",
      "text/plain": [
       "<Figure size 640x480 with 1 Axes>"
      ]
     },
     "metadata": {},
     "output_type": "display_data"
    },
    {
     "name": "stdout",
     "output_type": "stream",
     "text": [
      "certification\n",
      "G             133,216,881.69\n",
      "NR             22,122,566.43\n",
      "PG            129,080,604.10\n",
      "PG-13         111,101,802.32\n",
      "R              52,602,537.15\n",
      "Name: revenue, dtype: float64\n"
     ]
    }
   ],
   "source": [
    "pd.options.display.float_format = '{:20,.2f}'.format\n",
    "sns.barplot(data=budget_and_rev, x='certification', y='revenue')\n",
    "plt.title('Average Revenue per Certification')\n",
    "plt.xlabel('Certification')\n",
    "plt.ylabel('Revenue ($USD)')\n",
    "plt.ticklabel_format(style='plain',\n",
    "                     axis='y',\n",
    "                     useOffset=None)\n",
    "plt.show();\n",
    "print(avg_rev)"
   ]
  },
  {
   "cell_type": "markdown",
   "id": "313a9686",
   "metadata": {},
   "source": [
    "## What is the average budget per certification category?"
   ]
  },
  {
   "cell_type": "code",
   "execution_count": 23,
   "id": "313f68c5",
   "metadata": {},
   "outputs": [],
   "source": [
    "avg_budg = budget_and_rev.groupby('certification')['budget'].mean()"
   ]
  },
  {
   "cell_type": "code",
   "execution_count": 24,
   "id": "43d285fd",
   "metadata": {},
   "outputs": [
    {
     "data": {
      "image/png": "[encoded data removed]",
      "text/plain": [
       "<Figure size 640x480 with 1 Axes>"
      ]
     },
     "metadata": {},
     "output_type": "display_data"
    },
    {
     "name": "stdout",
     "output_type": "stream",
     "text": [
      "certification\n",
      "G              44,000,000.00\n",
      "NR             13,528,571.43\n",
      "PG             51,974,907.80\n",
      "PG-13          46,627,328.09\n",
      "R              26,933,432.98\n",
      "Name: budget, dtype: float64\n"
     ]
    }
   ],
   "source": [
    "sns.barplot(data=budget_and_rev, x='certification', y='budget')\n",
    "plt.title('Average Budget per Certification')\n",
    "plt.xlabel('Certification')\n",
    "plt.ylabel('Budget ($USD)')\n",
    "plt.ticklabel_format(style='plain',\n",
    "                     axis='y',\n",
    "                     useOffset=None)\n",
    "plt.show();\n",
    "print(avg_budg)"
   ]
  }
 ],
 "metadata": {
  "kernelspec": {
   "display_name": "Python (dojo-env)",
   "language": "python",
   "name": "dojo-env"
  },
  "language_info": {
   "codemirror_mode": {
    "name": "ipython",
    "version": 3
   },
   "file_extension": ".py",
   "mimetype": "text/x-python",
   "name": "python",
   "nbconvert_exporter": "python",
   "pygments_lexer": "ipython3",
   "version": "3.9.15"
  },
  "toc": {
   "base_numbering": 1,
   "nav_menu": {},
   "number_sections": false,
   "sideBar": true,
   "skip_h1_title": false,
   "title_cell": "Table of Contents",
   "title_sidebar": "Contents",
   "toc_cell": false,
   "toc_position": {},
   "toc_section_display": true,
   "toc_window_display": false
  }
 },
 "nbformat": 4,
 "nbformat_minor": 5
}
